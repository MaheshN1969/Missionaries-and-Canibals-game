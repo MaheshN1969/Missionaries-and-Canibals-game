{
  "nbformat": 4,
  "nbformat_minor": 0,
  "metadata": {
    "colab": {
      "name": "Missionarie_game2.ipynb",
      "provenance": [],
      "collapsed_sections": []
    },
    "kernelspec": {
      "name": "python3",
      "display_name": "Python 3"
    }
  },
  "cells": [
    {
      "cell_type": "code",
      "metadata": {
        "colab": {
          "base_uri": "https://localhost:8080/"
        },
        "id": "Q-EfZjjMHETg",
        "outputId": "f6bdd049-64ba-4eab-9fcb-24ca3c4ddce5"
      },
      "source": [
        "lc,lm,rc,rm = 0,0,3,3 \r\n",
        "b_Side = 'R'\r\n",
        "print(lc,lm,rc,rm,b_Side)\r\n"
      ],
      "execution_count": null,
      "outputs": [
        {
          "output_type": "stream",
          "text": [
            "0 0 3 3 R\n"
          ],
          "name": "stdout"
        }
      ]
    },
    {
      "cell_type": "code",
      "metadata": {
        "id": "NCCqoxUcKn5L"
      },
      "source": [
        "def scene(lc,lm,rc,rm,side) : \r\n",
        "  if side == 'R' : \r\n",
        "    print('M :',lm,'  C :',lc,' |-----B| ','C :',rc,'  M :',rm)\r\n",
        "  else :\r\n",
        "    print('M :',lm,'  C :',lc,' |B-----| ','C :',rc,'  M :',rm)"
      ],
      "execution_count": null,
      "outputs": []
    },
    {
      "cell_type": "code",
      "metadata": {
        "id": "h7WgrzVMaWRx"
      },
      "source": [
        "from IPython.display import clear_output"
      ],
      "execution_count": null,
      "outputs": []
    },
    {
      "cell_type": "code",
      "metadata": {
        "colab": {
          "base_uri": "https://localhost:8080/"
        },
        "id": "X2-_RODPaiC1",
        "outputId": "e00188d9-0382-4589-e96c-2463abaacffe"
      },
      "source": [
        "for i in range(5):\r\n",
        "  clear_output()\r\n",
        "  print(i)"
      ],
      "execution_count": null,
      "outputs": [
        {
          "output_type": "stream",
          "text": [
            "4\n"
          ],
          "name": "stdout"
        }
      ]
    },
    {
      "cell_type": "code",
      "metadata": {
        "colab": {
          "base_uri": "https://localhost:8080/"
        },
        "id": "vrkASlZiIo6e",
        "outputId": "242948e5-82f9-4cc3-b699-a30db993f8fa"
      },
      "source": [
        "lc,lm,rc,rm = 0,0,3,3 \r\n",
        "b_Side = 'R'\r\n",
        "scene(lc,lm,rc,rm,b_Side)\r\n",
        "\r\n",
        "while True : \r\n",
        "  #scene(lc,lm,rc,rm,b_Side)\r\n",
        "  m = int(input('Enter Missionary (To Quit Enter 11) : ')) \r\n",
        "  c = int(input('Enter Canibal (To Quit Enter 11) : '))\r\n",
        "\r\n",
        "  if m==11 or c==11 : \r\n",
        "    print('Game Quit')\r\n",
        "    break\r\n",
        "\r\n",
        "  if m == 0 and c == 0 : \r\n",
        "    print('Not Possible : Boat sholud carray atleast one Person')\r\n",
        "    continue\r\n",
        "  elif m+c > 2 : \r\n",
        "    print('Not Possible : Boat carry maximum 2 Persons')\r\n",
        "    continue\r\n",
        "\r\n",
        "  #Now Updating counts on both sides \r\n",
        "  if b_Side == 'R' : \r\n",
        "    if m > rm or c > rc : \r\n",
        "      if m > rm : \r\n",
        "        print('Not Possible Missionary count greater than Missionaries available Right side  ')\r\n",
        "        continue\r\n",
        "      else : \r\n",
        "        print('Not Possible Cannibal count greater than Canibals available Right side  ')\r\n",
        "        continue\r\n",
        "    else :\r\n",
        "      lc = lc+c \r\n",
        "      lm = lm+m \r\n",
        "      rc = rc-c \r\n",
        "      rm = rm-m \r\n",
        "      b_Side = 'L'\r\n",
        "  else : \r\n",
        "    if m > lm or c > lc : \r\n",
        "      if m > lm : \r\n",
        "        print('Not Possible Missionary count greater than Missionaries available left side  ')\r\n",
        "        continue\r\n",
        "      else : \r\n",
        "        print('Not Possible Caanibal count greater than Canibals available left side  ')\r\n",
        "        continue      \r\n",
        "    else : \r\n",
        "      rc = rc+c \r\n",
        "      rm = rm+m \r\n",
        "      lc = lc-c \r\n",
        "      lm = lm-m\r\n",
        "      b_Side = 'R'\r\n",
        "  \r\n",
        "  clear_output()\r\n",
        "  scene(lc,lm,rc,rm,b_Side)\r\n",
        "\r\n",
        "  #Checking Win Condition \r\n",
        "  if lc == 3 and lm == 3 : \r\n",
        "    print('Congrats Game Win !!!!!!')\r\n",
        "    break\r\n",
        "  \r\n",
        "  #Check Game Over Condition \r\n",
        "  if (lc>lm and lm!=0) or (rc>rm and rm!=0) :\r\n",
        "    print('Game Over  You Loose!!!!!!')\r\n",
        "    break"
      ],
      "execution_count": null,
      "outputs": [
        {
          "output_type": "stream",
          "text": [
            "M : 0   C : 0  |-----B|  C : 3   M : 3\n",
            "Enter Missionary (To Quit Enter 11) : 3\n",
            "Enter Canibal (To Quit Enter 11) : 0\n",
            "Not Possible : Boat carry maximum 2 Persons\n",
            "Enter Missionary (To Quit Enter 11) : 11\n",
            "Enter Canibal (To Quit Enter 11) : 0\n",
            "Game Quit\n"
          ],
          "name": "stdout"
        }
      ]
    },
    {
      "cell_type": "code",
      "metadata": {
        "id": "lyiARgD-a4b9"
      },
      "source": [
        ""
      ],
      "execution_count": null,
      "outputs": []
    }
  ]
}